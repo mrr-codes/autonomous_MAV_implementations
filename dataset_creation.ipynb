{
 "cells": [
  {
   "cell_type": "code",
   "execution_count": null,
   "id": "6c61c07b",
   "metadata": {
    "id": "6c61c07b"
   },
   "outputs": [],
   "source": [
    "import os\n",
    "import cv2\n",
    "from transformers import pipeline\n",
    "from PIL import Image\n",
    "import requests\n",
    "import numpy as np\n",
    "from tqdm import tqdm"
   ]
  },
  {
   "cell_type": "code",
   "execution_count": null,
   "id": "de355ebf",
   "metadata": {
    "id": "de355ebf"
   },
   "outputs": [],
   "source": [
    "# Cell 1: ================= Dataset config values =================\n",
    "\n",
    "histogram_threshold = 1500\n",
    "dataset_output_name = \"dataset_0703\"\n",
    "\n",
    "# =========================================================\n"
   ]
  },
  {
   "cell_type": "code",
   "execution_count": null,
   "id": "FZU2thGIKkRh",
   "metadata": {
    "colab": {
     "base_uri": "https://localhost:8080/"
    },
    "executionInfo": {
     "elapsed": 52906,
     "status": "ok",
     "timestamp": 1741560855107,
     "user": {
      "displayName": "Manas",
      "userId": "13241149413762154520"
     },
     "user_tz": -60
    },
    "id": "FZU2thGIKkRh",
    "outputId": "e7d6ea2d-b754-4dd8-8b0e-0785bb0261e8"
   },
   "outputs": [
    {
     "name": "stdout",
     "output_type": "stream",
     "text": [
      "Mounted at /content/drive\n"
     ]
    }
   ],
   "source": [
    "# (Mounting Google Drive to access the stored datasets)\n",
    "from google.colab import drive\n",
    "drive.mount('/content/drive')"
   ]
  },
  {
   "cell_type": "code",
   "execution_count": null,
   "id": "2772cf8a",
   "metadata": {
    "colab": {
     "base_uri": "https://localhost:8080/",
     "height": 278,
     "referenced_widgets": [
      "5253b2258e45474f9aa41cd27544b819",
      "4fd05036473e48b69ecc547a10af86a5",
      "275be0bcec954e76af9bcb475950c45b",
      "47aea242b69b4ef1b33842f7871e851a",
      "8dbc207210964f998cf0b96042556c04",
      "035e729132f14e4c9754fec896569a38",
      "55a800bdecd74f53b32f5f0556546d00",
      "c799dfa9b2ab45639fbd8151604fcdb7",
      "ccd3fc6d27354b4f8b2b7f08a38be684",
      "0daa0f3528244fdf8617bdb18396a79f",
      "fc7fcf6acf7940f2823103328bd1b449",
      "bee11c75e81f46cda9f0968370e87d99",
      "6dc6fd9893e2432d971eda1804e06299",
      "d0ce44a38447448092a80a557f1e36e9",
      "fa2b1b18b7c040f1ab57e1b98fe8d5d1",
      "038e5c1801aa46fd95a4b142ec90f349",
      "7508b735a44a40f38bde53837ff2378f",
      "df10aefde00d4e51815365192d455d53",
      "a05581c2ddb84cde8a8d0152562cf9e3",
      "8ea1d0a92edb4136b2e387abd358cb07",
      "4a2518966d4d4ac69d8b6de73505c8f2",
      "532e1d2d23e442a4830f9efab20bf44e",
      "fccc22e54135463585642c4200270ba8",
      "3345ba07a8834a5997b19aed7ebcef87",
      "bfbb2d72032d48bd83b08839726badc9",
      "a4aad370f8724af09b7e63e2d52b5faf",
      "32cab497fa064cb98496be70a8f63e7e",
      "14a35ce9966040e287946034caa72a66",
      "fd63740ef310423a9dd33409e6668d9b",
      "75cadaca6ee94a3ca31aae3c9aeefeef",
      "4b35d92f37e24f84a2eca8c8154a4a7e",
      "0b2098133f6b42ef942e0e5fff5ddca9",
      "5dc2edb17f4e4f4abf1c0e98a014ea14"
     ]
    },
    "executionInfo": {
     "elapsed": 4789,
     "status": "ok",
     "timestamp": 1741560859789,
     "user": {
      "displayName": "Manas",
      "userId": "13241149413762154520"
     },
     "user_tz": -60
    },
    "id": "2772cf8a",
    "outputId": "35fdde78-119b-4b70-dcda-a4fed4745035"
   },
   "outputs": [
    {
     "name": "stderr",
     "output_type": "stream",
     "text": [
      "/usr/local/lib/python3.11/dist-packages/huggingface_hub/utils/_auth.py:94: UserWarning: \n",
      "The secret `HF_TOKEN` does not exist in your Colab secrets.\n",
      "To authenticate with the Hugging Face Hub, create a token in your settings tab (https://huggingface.co/settings/tokens), set it as secret in your Google Colab and restart your session.\n",
      "You will be able to reuse this secret in all of your notebooks.\n",
      "Please note that authentication is recommended but still optional to access public models or datasets.\n",
      "  warnings.warn(\n"
     ]
    },
    {
     "data": {
      "application/vnd.jupyter.widget-view+json": {
       "model_id": "5253b2258e45474f9aa41cd27544b819",
       "version_major": 2,
       "version_minor": 0
      },
      "text/plain": [
       "config.json:   0%|          | 0.00/957 [00:00<?, ?B/s]"
      ]
     },
     "metadata": {},
     "output_type": "display_data"
    },
    {
     "data": {
      "application/vnd.jupyter.widget-view+json": {
       "model_id": "bee11c75e81f46cda9f0968370e87d99",
       "version_major": 2,
       "version_minor": 0
      },
      "text/plain": [
       "model.safetensors:   0%|          | 0.00/390M [00:00<?, ?B/s]"
      ]
     },
     "metadata": {},
     "output_type": "display_data"
    },
    {
     "data": {
      "application/vnd.jupyter.widget-view+json": {
       "model_id": "fccc22e54135463585642c4200270ba8",
       "version_major": 2,
       "version_minor": 0
      },
      "text/plain": [
       "preprocessor_config.json:   0%|          | 0.00/437 [00:00<?, ?B/s]"
      ]
     },
     "metadata": {},
     "output_type": "display_data"
    },
    {
     "name": "stderr",
     "output_type": "stream",
     "text": [
      "Using a slow image processor as `use_fast` is unset and a slow processor was saved with this model. `use_fast=True` will be the default behavior in v4.48, even if the model was saved with a slow processor. This will result in minor differences in outputs. You'll still be able to use a slow processor with `use_fast=False`.\n",
      "Device set to use cuda:0\n"
     ]
    }
   ],
   "source": [
    "# Cell 2: Load depth estimation pipeline\n",
    "depth_estimation_pipeline = pipeline(task=\"depth-estimation\", model=\"LiheYoung/depth-anything-base-hf\", trust_remote_code=True)\n"
   ]
  },
  {
   "cell_type": "code",
   "execution_count": null,
   "id": "0b5c99c9",
   "metadata": {
    "id": "0b5c99c9"
   },
   "outputs": [],
   "source": [
    "# Cell 3: Define dataset directories and subfolders\n",
    "\n",
    "datasets_directory = \"/content/drive/MyDrive/Colab_Notebooks/datasets/\"\n",
    "provided_datasets_folder = \"provided_datasets/\"\n",
    "provided_datasets_subfolders = [\n",
    "    \"cyberzoo_aggressive_flight/20190121-144646/\",\n",
    "    \"cyberzoo_canvas_approach/20190121-151448/\",\n",
    "    \"cyberzoo_poles/20190121-135009/\",\n",
    "    \"cyberzoo_poles_panels/20190121-140205/\",\n",
    "    \"cyberzoo_poles_panels_mats/20190121-142935/\",\n",
    "]\n",
    "\n",
    "collected_datasets_folder = \"collected_datasets/\"\n",
    "collected_datasets_subfolders = os.listdir(datasets_directory + collected_datasets_folder)\n"
   ]
  },
  {
   "cell_type": "code",
   "execution_count": null,
   "id": "54b2f9ac",
   "metadata": {
    "colab": {
     "base_uri": "https://localhost:8080/"
    },
    "executionInfo": {
     "elapsed": 10715,
     "status": "ok",
     "timestamp": 1741560871179,
     "user": {
      "displayName": "Manas",
      "userId": "13241149413762154520"
     },
     "user_tz": -60
    },
    "id": "54b2f9ac",
    "outputId": "841acc65-a2f4-44e2-b2ae-1923fc4ddd66"
   },
   "outputs": [
    {
     "name": "stdout",
     "output_type": "stream",
     "text": [
      "Collecting images from: /content/drive/MyDrive/Colab_Notebooks/datasets/collected_datasets/20250307-143119/\n",
      "Collecting images from: /content/drive/MyDrive/Colab_Notebooks/datasets/collected_datasets/20250307-095611/\n",
      "Collecting images from: /content/drive/MyDrive/Colab_Notebooks/datasets/collected_datasets/20250307-101109/\n"
     ]
    }
   ],
   "source": [
    "# Cell 4: Gather image paths from all dataset folders\n",
    "\n",
    "all_image_paths = []\n",
    "all_dataset_folders = []\n",
    "#all_dataset_folders.extend([datasets_directory + provided_datasets_folder + subfolder for subfolder in provided_datasets_subfolders])\n",
    "all_dataset_folders.extend([datasets_directory + collected_datasets_folder + subfolder + '/' for subfolder in collected_datasets_subfolders])\n",
    "\n",
    "for folder_path in all_dataset_folders:\n",
    "    print(f\"Collecting images from: {folder_path}\")\n",
    "    image_files = [folder_path + img for img in os.listdir(folder_path) if img.endswith(\".jpg\")]\n",
    "    all_image_paths.extend(image_files)\n"
   ]
  },
  {
   "cell_type": "code",
   "execution_count": null,
   "id": "d377cdd6",
   "metadata": {
    "colab": {
     "base_uri": "https://localhost:8080/"
    },
    "executionInfo": {
     "elapsed": 8,
     "status": "ok",
     "timestamp": 1741560871193,
     "user": {
      "displayName": "Manas",
      "userId": "13241149413762154520"
     },
     "user_tz": -60
    },
    "id": "d377cdd6",
    "outputId": "191160b3-3794-4e85-e2c0-5c8b63a941b8"
   },
   "outputs": [
    {
     "name": "stdout",
     "output_type": "stream",
     "text": [
      "Total number of image files: 4358\n"
     ]
    }
   ],
   "source": [
    "# Cell 5: Print total number of image files\n",
    "print(f\"Total number of image files: {len(all_image_paths)}\")\n"
   ]
  },
  {
   "cell_type": "code",
   "execution_count": null,
   "id": "643ced33",
   "metadata": {
    "id": "643ced33"
   },
   "outputs": [],
   "source": [
    "# Cell 6: Function to get label based on depth histogram of the image patch\n",
    "def get_label(datapoint):\n",
    "    # Calculate the histogram\n",
    "    hist_values, bin_edges = np.histogram(datapoint.ravel(), bins=5, range=(0, 255))\n",
    "    # Return True if the highest bin exceeds the threshold\n",
    "    new_label = hist_values[-1] > histogram_threshold\n",
    "    return new_label\n"
   ]
  },
  {
   "cell_type": "code",
   "execution_count": null,
   "id": "860a363a",
   "metadata": {
    "colab": {
     "base_uri": "https://localhost:8080/"
    },
    "executionInfo": {
     "elapsed": 3855203,
     "status": "ok",
     "timestamp": 1741565108100,
     "user": {
      "displayName": "Manas",
      "userId": "13241149413762154520"
     },
     "user_tz": -60
    },
    "id": "860a363a",
    "outputId": "a677eb0a-3c54-4597-b0d3-d8d356856b1a"
   },
   "outputs": [
    {
     "name": "stderr",
     "output_type": "stream",
     "text": [
      "  0%|          | 10/4358 [00:11<1:16:00,  1.05s/it]You seem to be using the pipelines sequentially on GPU. In order to maximize efficiency please use a dataset\n",
      "100%|██████████| 4358/4358 [1:04:15<00:00,  1.13it/s]\n"
     ]
    }
   ],
   "source": [
    "# Cell 7: Process each image and extract patches\n",
    "dataset_list = []\n",
    "\n",
    "# Note: This code does not properly utilize the GPU due to the pipeline used,\n",
    "# which causes the model to take much longer than necessary to process the dataset.\n",
    "\n",
    "for image_filepath in tqdm(all_image_paths):\n",
    "    # Open image\n",
    "    input_image = Image.open(image_filepath)\n",
    "\n",
    "    # Rotate image to horizontal orientation\n",
    "    input_image = input_image.rotate(90, expand=True)\n",
    "\n",
    "    # Calculate depth map for the entire image\n",
    "    depth_map = depth_estimation_pipeline(input_image)[\"depth\"]\n",
    "\n",
    "    # Crop the 3 image patches from the depth map\n",
    "    # Patches are collected as 170x170 images, later reduced to 85x85\n",
    "    depth_patch_left = np.asarray(depth_map.crop((0, 35, 170, 205)))\n",
    "    depth_patch_center = np.asarray(depth_map.crop((170, 35, 340, 205)))\n",
    "    depth_patch_right = np.asarray(depth_map.crop((340, 35, 510, 205)))\n",
    "\n",
    "    # Crop the 3 corresponding image patches from the RGB image\n",
    "    rgb_patch_left = input_image.crop((0, 35, 170, 205))\n",
    "    rgb_patch_center = input_image.crop((170, 35, 340, 205))\n",
    "    rgb_patch_right = input_image.crop((340, 35, 510, 205))\n",
    "\n",
    "    # Get the label for each patch based on the depth map\n",
    "    label_left = get_label(depth_patch_left)\n",
    "    label_center = get_label(depth_patch_center)\n",
    "    label_right = get_label(depth_patch_right)\n",
    "\n",
    "    data_point_left = {\n",
    "        \"filename\": image_filepath,\n",
    "        \"depth\": depth_patch_left,\n",
    "        \"image\": rgb_patch_left,\n",
    "        \"label\": label_left\n",
    "    }\n",
    "\n",
    "    data_point_center = {\n",
    "        \"filename\": image_filepath,\n",
    "        \"depth\": depth_patch_center,\n",
    "        \"image\": rgb_patch_center,\n",
    "        \"label\": label_center\n",
    "    }\n",
    "\n",
    "    data_point_right = {\n",
    "        \"filename\": image_filepath,\n",
    "        \"depth\": depth_patch_right,\n",
    "        \"image\": rgb_patch_right,\n",
    "        \"label\": label_right\n",
    "    }\n",
    "\n",
    "    # Store each patch as its own data point in the dataset list\n",
    "    dataset_list.append(data_point_left)\n",
    "    dataset_list.append(data_point_center)\n",
    "    dataset_list.append(data_point_right)\n"
   ]
  },
  {
   "cell_type": "code",
   "execution_count": null,
   "id": "89d4fee2",
   "metadata": {
    "colab": {
     "base_uri": "https://localhost:8080/"
    },
    "executionInfo": {
     "elapsed": 10,
     "status": "ok",
     "timestamp": 1741565299582,
     "user": {
      "displayName": "Manas",
      "userId": "13241149413762154520"
     },
     "user_tz": -60
    },
    "id": "89d4fee2",
    "outputId": "6faf2284-e5b3-4559-f56b-4400a92ea479"
   },
   "outputs": [
    {
     "name": "stdout",
     "output_type": "stream",
     "text": [
      "Total dataset size: 13074\n",
      "Number of true labels: 4338\n"
     ]
    }
   ],
   "source": [
    "# Cell 8: Print dataset statistics\n",
    "print(f\"Total dataset size: {len(dataset_list)}\")\n",
    "# Dataset is quite imbalanced; print count of positive labels\n",
    "print(f\"Number of true labels: {len([x for x in dataset_list if x['label'] == True])}\")\n"
   ]
  },
  {
   "cell_type": "code",
   "execution_count": null,
   "id": "de63beb8",
   "metadata": {
    "colab": {
     "base_uri": "https://localhost:8080/",
     "height": 205
    },
    "executionInfo": {
     "elapsed": 158,
     "status": "ok",
     "timestamp": 1741565338629,
     "user": {
      "displayName": "Manas",
      "userId": "13241149413762154520"
     },
     "user_tz": -60
    },
    "id": "de63beb8",
    "outputId": "17629a2f-8647-4203-d048-3da7127de0e1"
   },
   "outputs": [
    {
     "name": "stdout",
     "output_type": "stream",
     "text": [
      "True\n"
     ]
    },
    {
     "data": {
      "image/jpeg": "[encoded data removed]",
      "image/png": "[encoded data removed]",
      "text/plain": [
       "<PIL.Image.Image image mode=RGB size=170x170>"
      ]
     },
     "execution_count": 21,
     "metadata": {},
     "output_type": "execute_result"
    }
   ],
   "source": [
    "# Cell 9: Inspect an image patch from the dataset\n",
    "i = 9000\n",
    "print(dataset_list[i]['label'])\n",
    "dataset_list[i]['image']\n"
   ]
  },
  {
   "cell_type": "code",
   "execution_count": null,
   "id": "291ddd65",
   "metadata": {
    "colab": {
     "base_uri": "https://localhost:8080/",
     "height": 187
    },
    "executionInfo": {
     "elapsed": 8,
     "status": "ok",
     "timestamp": 1741565340686,
     "user": {
      "displayName": "Manas",
      "userId": "13241149413762154520"
     },
     "user_tz": -60
    },
    "id": "291ddd65",
    "outputId": "36cce60a-6c11-4553-ec5a-623de7757299"
   },
   "outputs": [
    {
     "data": {
      "image/jpeg": "[encoded data removed]",
      "image/png": "[encoded data removed]",
      "text/plain": [
       "<PIL.Image.Image image mode=L size=170x170>"
      ]
     },
     "execution_count": 22,
     "metadata": {},
     "output_type": "execute_result"
    }
   ],
   "source": [
    "# Cell 10: Show the depth map patch corresponding to the inspected image\n",
    "Image.fromarray(np.uint8(dataset_list[i]['depth']))\n"
   ]
  },
  {
   "cell_type": "code",
   "execution_count": null,
   "id": "af8710c7",
   "metadata": {
    "id": "af8710c7"
   },
   "outputs": [],
   "source": [
    "# Cell 11: Save the dataset as a pickle file\n",
    "import pickle\n",
    "\n",
    "with open(dataset_output_name + '.pkl', 'wb') as f:\n",
    "    pickle.dump(dataset_list, f)\n"
   ]
  }
 ],
 "metadata": {
  "accelerator": "GPU",
  "colab": {
   "gpuType": "T4",
   "provenance": []
  },
  "kernelspec": {
   "display_name": "Python 3",
   "name": "python3"
  },
  "language_info": {
   "codemirror_mode": {
    "name": "ipython",
    "version": 3
   },
   "file_extension": ".py",
   "mimetype": "text/x-python",
   "name": "python",
   "nbconvert_exporter": "python",
   "pygments_lexer": "ipython3",
   "version": "3.10.14"
  },
  "widgets": {
   "application/vnd.jupyter.widget-state+json": {
    "035e729132f14e4c9754fec896569a38": {
     "model_module": "@jupyter-widgets/base",
     "model_module_version": "1.2.0",
     "model_name": "LayoutModel",
     "state": {
      "_model_module": "@jupyter-widgets/base",
      "_model_module_version": "1.2.0",
      "_model_name": "LayoutModel",
      "_view_count": null,
      "_view_module": "@jupyter-widgets/base",
      "_view_module_version": "1.2.0",
      "_view_name": "LayoutView",
      "align_content": null,
      "align_items": null,
      "align_self": null,
      "border": null,
      "bottom": null,
      "display": null,
      "flex": null,
      "flex_flow": null,
      "grid_area": null,
      "grid_auto_columns": null,
      "grid_auto_flow": null,
      "grid_auto_rows": null,
      "grid_column": null,
      "grid_gap": null,
      "grid_row": null,
      "grid_template_areas": null,
      "grid_template_columns": null,
      "grid_template_rows": null,
      "height": null,
      "justify_content": null,
      "justify_items": null,
      "left": null,
      "margin": null,
      "max_height": null,
      "max_width": null,
      "min_height": null,
      "min_width": null,
      "object_fit": null,
      "object_position": null,
      "order": null,
      "overflow": null,
      "overflow_x": null,
      "overflow_y": null,
      "padding": null,
      "right": null,
      "top": null,
      "visibility": null,
      "width": null
     }
    },
    "038e5c1801aa46fd95a4b142ec90f349": {
     "model_module": "@jupyter-widgets/base",
     "model_module_version": "1.2.0",
     "model_name": "LayoutModel",
     "state": {
      "_model_module": "@jupyter-widgets/base",
      "_model_module_version": "1.2.0",
      "_model_name": "LayoutModel",
      "_view_count": null,
      "_view_module": "@jupyter-widgets/base",
      "_view_module_version": "1.2.0",
      "_view_name": "LayoutView",
      "align_content": null,
      "align_items": null,
      "align_self": null,
      "border": null,
      "bottom": null,
      "display": null,
      "flex": null,
      "flex_flow": null,
      "grid_area": null,
      "grid_auto_columns": null,
      "grid_auto_flow": null,
      "grid_auto_rows": null,
      "grid_column": null,
      "grid_gap": null,
      "grid_row": null,
      "grid_template_areas": null,
      "grid_template_columns": null,
      "grid_template_rows": null,
      "height": null,
      "justify_content": null,
      "justify_items": null,
      "left": null,
      "margin": null,
      "max_height": null,
      "max_width": null,
      "min_height": null,
      "min_width": null,
      "object_fit": null,
      "object_position": null,
      "order": null,
      "overflow": null,
      "overflow_x": null,
      "overflow_y": null,
      "padding": null,
      "right": null,
      "top": null,
      "visibility": null,
      "width": null
     }
    },
    "0b2098133f6b42ef942e0e5fff5ddca9": {
     "model_module": "@jupyter-widgets/base",
     "model_module_version": "1.2.0",
     "model_name": "LayoutModel",
     "state": {
      "_model_module": "@jupyter-widgets/base",
      "_model_module_version": "1.2.0",
      "_model_name": "LayoutModel",
      "_view_count": null,
      "_view_module": "@jupyter-widgets/base",
      "_view_module_version": "1.2.0",
      "_view_name": "LayoutView",
      "align_content": null,
      "align_items": null,
      "align_self": null,
      "border": null,
      "bottom": null,
      "display": null,
      "flex": null,
      "flex_flow": null,
      "grid_area": null,
      "grid_auto_columns": null,
      "grid_auto_flow": null,
      "grid_auto_rows": null,
      "grid_column": null,
      "grid_gap": null,
      "grid_row": null,
      "grid_template_areas": null,
      "grid_template_columns": null,
      "grid_template_rows": null,
      "height": null,
      "justify_content": null,
      "justify_items": null,
      "left": null,
      "margin": null,
      "max_height": null,
      "max_width": null,
      "min_height": null,
      "min_width": null,
      "object_fit": null,
      "object_position": null,
      "order": null,
      "overflow": null,
      "overflow_x": null,
      "overflow_y": null,
      "padding": null,
      "right": null,
      "top": null,
      "visibility": null,
      "width": null
     }
    },
    "0daa0f3528244fdf8617bdb18396a79f": {
     "model_module": "@jupyter-widgets/base",
     "model_module_version": "1.2.0",
     "model_name": "LayoutModel",
     "state": {
      "_model_module": "@jupyter-widgets/base",
      "_model_module_version": "1.2.0",
      "_model_name": "LayoutModel",
      "_view_count": null,
      "_view_module": "@jupyter-widgets/base",
      "_view_module_version": "1.2.0",
      "_view_name": "LayoutView",
      "align_content": null,
      "align_items": null,
      "align_self": null,
      "border": null,
      "bottom": null,
      "display": null,
      "flex": null,
      "flex_flow": null,
      "grid_area": null,
      "grid_auto_columns": null,
      "grid_auto_flow": null,
      "grid_auto_rows": null,
      "grid_column": null,
      "grid_gap": null,
      "grid_row": null,
      "grid_template_areas": null,
      "grid_template_columns": null,
      "grid_template_rows": null,
      "height": null,
      "justify_content": null,
      "justify_items": null,
      "left": null,
      "margin": null,
      "max_height": null,
      "max_width": null,
      "min_height": null,
      "min_width": null,
      "object_fit": null,
      "object_position": null,
      "order": null,
      "overflow": null,
      "overflow_x": null,
      "overflow_y": null,
      "padding": null,
      "right": null,
      "top": null,
      "visibility": null,
      "width": null
     }
    },
    "14a35ce9966040e287946034caa72a66": {
     "model_module": "@jupyter-widgets/base",
     "model_module_version": "1.2.0",
     "model_name": "LayoutModel",
     "state": {
      "_model_module": "@jupyter-widgets/base",
      "_model_module_version": "1.2.0",
      "_model_name": "LayoutModel",
      "_view_count": null,
      "_view_module": "@jupyter-widgets/base",
      "_view_module_version": "1.2.0",
      "_view_name": "LayoutView",
      "align_content": null,
      "align_items": null,
      "align_self": null,
      "border": null,
      "bottom": null,
      "display": null,
      "flex": null,
      "flex_flow": null,
      "grid_area": null,
      "grid_auto_columns": null,
      "grid_auto_flow": null,
      "grid_auto_rows": null,
      "grid_column": null,
      "grid_gap": null,
      "grid_row": null,
      "grid_template_areas": null,
      "grid_template_columns": null,
      "grid_template_rows": null,
      "height": null,
      "justify_content": null,
      "justify_items": null,
      "left": null,
      "margin": null,
      "max_height": null,
      "max_width": null,
      "min_height": null,
      "min_width": null,
      "object_fit": null,
      "object_position": null,
      "order": null,
      "overflow": null,
      "overflow_x": null,
      "overflow_y": null,
      "padding": null,
      "right": null,
      "top": null,
      "visibility": null,
      "width": null
     }
    },
    "275be0bcec954e76af9bcb475950c45b": {
     "model_module": "@jupyter-widgets/controls",
     "model_module_version": "1.5.0",
     "model_name": "FloatProgressModel",
     "state": {
      "_dom_classes": [],
      "_model_module": "@jupyter-widgets/controls",
      "_model_module_version": "1.5.0",
      "_model_name": "FloatProgressModel",
      "_view_count": null,
      "_view_module": "@jupyter-widgets/controls",
      "_view_module_version": "1.5.0",
      "_view_name": "ProgressView",
      "bar_style": "success",
      "description": "",
      "description_tooltip": null,
      "layout": "IPY_MODEL_c799dfa9b2ab45639fbd8151604fcdb7",
      "max": 957,
      "min": 0,
      "orientation": "horizontal",
      "style": "IPY_MODEL_ccd3fc6d27354b4f8b2b7f08a38be684",
      "value": 957
     }
    },
    "32cab497fa064cb98496be70a8f63e7e": {
     "model_module": "@jupyter-widgets/base",
     "model_module_version": "1.2.0",
     "model_name": "LayoutModel",
     "state": {
      "_model_module": "@jupyter-widgets/base",
      "_model_module_version": "1.2.0",
      "_model_name": "LayoutModel",
      "_view_count": null,
      "_view_module": "@jupyter-widgets/base",
      "_view_module_version": "1.2.0",
      "_view_name": "LayoutView",
      "align_content": null,
      "align_items": null,
      "align_self": null,
      "border": null,
      "bottom": null,
      "display": null,
      "flex": null,
      "flex_flow": null,
      "grid_area": null,
      "grid_auto_columns": null,
      "grid_auto_flow": null,
      "grid_auto_rows": null,
      "grid_column": null,
      "grid_gap": null,
      "grid_row": null,
      "grid_template_areas": null,
      "grid_template_columns": null,
      "grid_template_rows": null,
      "height": null,
      "justify_content": null,
      "justify_items": null,
      "left": null,
      "margin": null,
      "max_height": null,
      "max_width": null,
      "min_height": null,
      "min_width": null,
      "object_fit": null,
      "object_position": null,
      "order": null,
      "overflow": null,
      "overflow_x": null,
      "overflow_y": null,
      "padding": null,
      "right": null,
      "top": null,
      "visibility": null,
      "width": null
     }
    },
    "3345ba07a8834a5997b19aed7ebcef87": {
     "model_module": "@jupyter-widgets/controls",
     "model_module_version": "1.5.0",
     "model_name": "HTMLModel",
     "state": {
      "_dom_classes": [],
      "_model_module": "@jupyter-widgets/controls",
      "_model_module_version": "1.5.0",
      "_model_name": "HTMLModel",
      "_view_count": null,
      "_view_module": "@jupyter-widgets/controls",
      "_view_module_version": "1.5.0",
      "_view_name": "HTMLView",
      "description": "",
      "description_tooltip": null,
      "layout": "IPY_MODEL_14a35ce9966040e287946034caa72a66",
      "placeholder": "​",
      "style": "IPY_MODEL_fd63740ef310423a9dd33409e6668d9b",
      "value": "preprocessor_config.json: 100%"
     }
    },
    "47aea242b69b4ef1b33842f7871e851a": {
     "model_module": "@jupyter-widgets/controls",
     "model_module_version": "1.5.0",
     "model_name": "HTMLModel",
     "state": {
      "_dom_classes": [],
      "_model_module": "@jupyter-widgets/controls",
      "_model_module_version": "1.5.0",
      "_model_name": "HTMLModel",
      "_view_count": null,
      "_view_module": "@jupyter-widgets/controls",
      "_view_module_version": "1.5.0",
      "_view_name": "HTMLView",
      "description": "",
      "description_tooltip": null,
      "layout": "IPY_MODEL_0daa0f3528244fdf8617bdb18396a79f",
      "placeholder": "​",
      "style": "IPY_MODEL_fc7fcf6acf7940f2823103328bd1b449",
      "value": " 957/957 [00:00&lt;00:00, 88.9kB/s]"
     }
    },
    "4a2518966d4d4ac69d8b6de73505c8f2": {
     "model_module": "@jupyter-widgets/base",
     "model_module_version": "1.2.0",
     "model_name": "LayoutModel",
     "state": {
      "_model_module": "@jupyter-widgets/base",
      "_model_module_version": "1.2.0",
      "_model_name": "LayoutModel",
      "_view_count": null,
      "_view_module": "@jupyter-widgets/base",
      "_view_module_version": "1.2.0",
      "_view_name": "LayoutView",
      "align_content": null,
      "align_items": null,
      "align_self": null,
      "border": null,
      "bottom": null,
      "display": null,
      "flex": null,
      "flex_flow": null,
      "grid_area": null,
      "grid_auto_columns": null,
      "grid_auto_flow": null,
      "grid_auto_rows": null,
      "grid_column": null,
      "grid_gap": null,
      "grid_row": null,
      "grid_template_areas": null,
      "grid_template_columns": null,
      "grid_template_rows": null,
      "height": null,
      "justify_content": null,
      "justify_items": null,
      "left": null,
      "margin": null,
      "max_height": null,
      "max_width": null,
      "min_height": null,
      "min_width": null,
      "object_fit": null,
      "object_position": null,
      "order": null,
      "overflow": null,
      "overflow_x": null,
      "overflow_y": null,
      "padding": null,
      "right": null,
      "top": null,
      "visibility": null,
      "width": null
     }
    },
    "4b35d92f37e24f84a2eca8c8154a4a7e": {
     "model_module": "@jupyter-widgets/controls",
     "model_module_version": "1.5.0",
     "model_name": "ProgressStyleModel",
     "state": {
      "_model_module": "@jupyter-widgets/controls",
      "_model_module_version": "1.5.0",
      "_model_name": "ProgressStyleModel",
      "_view_count": null,
      "_view_module": "@jupyter-widgets/base",
      "_view_module_version": "1.2.0",
      "_view_name": "StyleView",
      "bar_color": null,
      "description_width": ""
     }
    },
    "4fd05036473e48b69ecc547a10af86a5": {
     "model_module": "@jupyter-widgets/controls",
     "model_module_version": "1.5.0",
     "model_name": "HTMLModel",
     "state": {
      "_dom_classes": [],
      "_model_module": "@jupyter-widgets/controls",
      "_model_module_version": "1.5.0",
      "_model_name": "HTMLModel",
      "_view_count": null,
      "_view_module": "@jupyter-widgets/controls",
      "_view_module_version": "1.5.0",
      "_view_name": "HTMLView",
      "description": "",
      "description_tooltip": null,
      "layout": "IPY_MODEL_035e729132f14e4c9754fec896569a38",
      "placeholder": "​",
      "style": "IPY_MODEL_55a800bdecd74f53b32f5f0556546d00",
      "value": "config.json: 100%"
     }
    },
    "5253b2258e45474f9aa41cd27544b819": {
     "model_module": "@jupyter-widgets/controls",
     "model_module_version": "1.5.0",
     "model_name": "HBoxModel",
     "state": {
      "_dom_classes": [],
      "_model_module": "@jupyter-widgets/controls",
      "_model_module_version": "1.5.0",
      "_model_name": "HBoxModel",
      "_view_count": null,
      "_view_module": "@jupyter-widgets/controls",
      "_view_module_version": "1.5.0",
      "_view_name": "HBoxView",
      "box_style": "",
      "children": [
       "IPY_MODEL_4fd05036473e48b69ecc547a10af86a5",
       "IPY_MODEL_275be0bcec954e76af9bcb475950c45b",
       "IPY_MODEL_47aea242b69b4ef1b33842f7871e851a"
      ],
      "layout": "IPY_MODEL_8dbc207210964f998cf0b96042556c04"
     }
    },
    "532e1d2d23e442a4830f9efab20bf44e": {
     "model_module": "@jupyter-widgets/controls",
     "model_module_version": "1.5.0",
     "model_name": "DescriptionStyleModel",
     "state": {
      "_model_module": "@jupyter-widgets/controls",
      "_model_module_version": "1.5.0",
      "_model_name": "DescriptionStyleModel",
      "_view_count": null,
      "_view_module": "@jupyter-widgets/base",
      "_view_module_version": "1.2.0",
      "_view_name": "StyleView",
      "description_width": ""
     }
    },
    "55a800bdecd74f53b32f5f0556546d00": {
     "model_module": "@jupyter-widgets/controls",
     "model_module_version": "1.5.0",
     "model_name": "DescriptionStyleModel",
     "state": {
      "_model_module": "@jupyter-widgets/controls",
      "_model_module_version": "1.5.0",
      "_model_name": "DescriptionStyleModel",
      "_view_count": null,
      "_view_module": "@jupyter-widgets/base",
      "_view_module_version": "1.2.0",
      "_view_name": "StyleView",
      "description_width": ""
     }
    },
    "5dc2edb17f4e4f4abf1c0e98a014ea14": {
     "model_module": "@jupyter-widgets/controls",
     "model_module_version": "1.5.0",
     "model_name": "DescriptionStyleModel",
     "state": {
      "_model_module": "@jupyter-widgets/controls",
      "_model_module_version": "1.5.0",
      "_model_name": "DescriptionStyleModel",
      "_view_count": null,
      "_view_module": "@jupyter-widgets/base",
      "_view_module_version": "1.2.0",
      "_view_name": "StyleView",
      "description_width": ""
     }
    },
    "6dc6fd9893e2432d971eda1804e06299": {
     "model_module": "@jupyter-widgets/controls",
     "model_module_version": "1.5.0",
     "model_name": "HTMLModel",
     "state": {
      "_dom_classes": [],
      "_model_module": "@jupyter-widgets/controls",
      "_model_module_version": "1.5.0",
      "_model_name": "HTMLModel",
      "_view_count": null,
      "_view_module": "@jupyter-widgets/controls",
      "_view_module_version": "1.5.0",
      "_view_name": "HTMLView",
      "description": "",
      "description_tooltip": null,
      "layout": "IPY_MODEL_7508b735a44a40f38bde53837ff2378f",
      "placeholder": "​",
      "style": "IPY_MODEL_df10aefde00d4e51815365192d455d53",
      "value": "model.safetensors: 100%"
     }
    },
    "7508b735a44a40f38bde53837ff2378f": {
     "model_module": "@jupyter-widgets/base",
     "model_module_version": "1.2.0",
     "model_name": "LayoutModel",
     "state": {
      "_model_module": "@jupyter-widgets/base",
      "_model_module_version": "1.2.0",
      "_model_name": "LayoutModel",
      "_view_count": null,
      "_view_module": "@jupyter-widgets/base",
      "_view_module_version": "1.2.0",
      "_view_name": "LayoutView",
      "align_content": null,
      "align_items": null,
      "align_self": null,
      "border": null,
      "bottom": null,
      "display": null,
      "flex": null,
      "flex_flow": null,
      "grid_area": null,
      "grid_auto_columns": null,
      "grid_auto_flow": null,
      "grid_auto_rows": null,
      "grid_column": null,
      "grid_gap": null,
      "grid_row": null,
      "grid_template_areas": null,
      "grid_template_columns": null,
      "grid_template_rows": null,
      "height": null,
      "justify_content": null,
      "justify_items": null,
      "left": null,
      "margin": null,
      "max_height": null,
      "max_width": null,
      "min_height": null,
      "min_width": null,
      "object_fit": null,
      "object_position": null,
      "order": null,
      "overflow": null,
      "overflow_x": null,
      "overflow_y": null,
      "padding": null,
      "right": null,
      "top": null,
      "visibility": null,
      "width": null
     }
    },
    "75cadaca6ee94a3ca31aae3c9aeefeef": {
     "model_module": "@jupyter-widgets/base",
     "model_module_version": "1.2.0",
     "model_name": "LayoutModel",
     "state": {
      "_model_module": "@jupyter-widgets/base",
      "_model_module_version": "1.2.0",
      "_model_name": "LayoutModel",
      "_view_count": null,
      "_view_module": "@jupyter-widgets/base",
      "_view_module_version": "1.2.0",
      "_view_name": "LayoutView",
      "align_content": null,
      "align_items": null,
      "align_self": null,
      "border": null,
      "bottom": null,
      "display": null,
      "flex": null,
      "flex_flow": null,
      "grid_area": null,
      "grid_auto_columns": null,
      "grid_auto_flow": null,
      "grid_auto_rows": null,
      "grid_column": null,
      "grid_gap": null,
      "grid_row": null,
      "grid_template_areas": null,
      "grid_template_columns": null,
      "grid_template_rows": null,
      "height": null,
      "justify_content": null,
      "justify_items": null,
      "left": null,
      "margin": null,
      "max_height": null,
      "max_width": null,
      "min_height": null,
      "min_width": null,
      "object_fit": null,
      "object_position": null,
      "order": null,
      "overflow": null,
      "overflow_x": null,
      "overflow_y": null,
      "padding": null,
      "right": null,
      "top": null,
      "visibility": null,
      "width": null
     }
    },
    "8dbc207210964f998cf0b96042556c04": {
     "model_module": "@jupyter-widgets/base",
     "model_module_version": "1.2.0",
     "model_name": "LayoutModel",
     "state": {
      "_model_module": "@jupyter-widgets/base",
      "_model_module_version": "1.2.0",
      "_model_name": "LayoutModel",
      "_view_count": null,
      "_view_module": "@jupyter-widgets/base",
      "_view_module_version": "1.2.0",
      "_view_name": "LayoutView",
      "align_content": null,
      "align_items": null,
      "align_self": null,
      "border": null,
      "bottom": null,
      "display": null,
      "flex": null,
      "flex_flow": null,
      "grid_area": null,
      "grid_auto_columns": null,
      "grid_auto_flow": null,
      "grid_auto_rows": null,
      "grid_column": null,
      "grid_gap": null,
      "grid_row": null,
      "grid_template_areas": null,
      "grid_template_columns": null,
      "grid_template_rows": null,
      "height": null,
      "justify_content": null,
      "justify_items": null,
      "left": null,
      "margin": null,
      "max_height": null,
      "max_width": null,
      "min_height": null,
      "min_width": null,
      "object_fit": null,
      "object_position": null,
      "order": null,
      "overflow": null,
      "overflow_x": null,
      "overflow_y": null,
      "padding": null,
      "right": null,
      "top": null,
      "visibility": null,
      "width": null
     }
    },
    "8ea1d0a92edb4136b2e387abd358cb07": {
     "model_module": "@jupyter-widgets/controls",
     "model_module_version": "1.5.0",
     "model_name": "ProgressStyleModel",
     "state": {
      "_model_module": "@jupyter-widgets/controls",
      "_model_module_version": "1.5.0",
      "_model_name": "ProgressStyleModel",
      "_view_count": null,
      "_view_module": "@jupyter-widgets/base",
      "_view_module_version": "1.2.0",
      "_view_name": "StyleView",
      "bar_color": null,
      "description_width": ""
     }
    },
    "a05581c2ddb84cde8a8d0152562cf9e3": {
     "model_module": "@jupyter-widgets/base",
     "model_module_version": "1.2.0",
     "model_name": "LayoutModel",
     "state": {
      "_model_module": "@jupyter-widgets/base",
      "_model_module_version": "1.2.0",
      "_model_name": "LayoutModel",
      "_view_count": null,
      "_view_module": "@jupyter-widgets/base",
      "_view_module_version": "1.2.0",
      "_view_name": "LayoutView",
      "align_content": null,
      "align_items": null,
      "align_self": null,
      "border": null,
      "bottom": null,
      "display": null,
      "flex": null,
      "flex_flow": null,
      "grid_area": null,
      "grid_auto_columns": null,
      "grid_auto_flow": null,
      "grid_auto_rows": null,
      "grid_column": null,
      "grid_gap": null,
      "grid_row": null,
      "grid_template_areas": null,
      "grid_template_columns": null,
      "grid_template_rows": null,
      "height": null,
      "justify_content": null,
      "justify_items": null,
      "left": null,
      "margin": null,
      "max_height": null,
      "max_width": null,
      "min_height": null,
      "min_width": null,
      "object_fit": null,
      "object_position": null,
      "order": null,
      "overflow": null,
      "overflow_x": null,
      "overflow_y": null,
      "padding": null,
      "right": null,
      "top": null,
      "visibility": null,
      "width": null
     }
    },
    "a4aad370f8724af09b7e63e2d52b5faf": {
     "model_module": "@jupyter-widgets/controls",
     "model_module_version": "1.5.0",
     "model_name": "HTMLModel",
     "state": {
      "_dom_classes": [],
      "_model_module": "@jupyter-widgets/controls",
      "_model_module_version": "1.5.0",
      "_model_name": "HTMLModel",
      "_view_count": null,
      "_view_module": "@jupyter-widgets/controls",
      "_view_module_version": "1.5.0",
      "_view_name": "HTMLView",
      "description": "",
      "description_tooltip": null,
      "layout": "IPY_MODEL_0b2098133f6b42ef942e0e5fff5ddca9",
      "placeholder": "​",
      "style": "IPY_MODEL_5dc2edb17f4e4f4abf1c0e98a014ea14",
      "value": " 437/437 [00:00&lt;00:00, 37.8kB/s]"
     }
    },
    "bee11c75e81f46cda9f0968370e87d99": {
     "model_module": "@jupyter-widgets/controls",
     "model_module_version": "1.5.0",
     "model_name": "HBoxModel",
     "state": {
      "_dom_classes": [],
      "_model_module": "@jupyter-widgets/controls",
      "_model_module_version": "1.5.0",
      "_model_name": "HBoxModel",
      "_view_count": null,
      "_view_module": "@jupyter-widgets/controls",
      "_view_module_version": "1.5.0",
      "_view_name": "HBoxView",
      "box_style": "",
      "children": [
       "IPY_MODEL_6dc6fd9893e2432d971eda1804e06299",
       "IPY_MODEL_d0ce44a38447448092a80a557f1e36e9",
       "IPY_MODEL_fa2b1b18b7c040f1ab57e1b98fe8d5d1"
      ],
      "layout": "IPY_MODEL_038e5c1801aa46fd95a4b142ec90f349"
     }
    },
    "bfbb2d72032d48bd83b08839726badc9": {
     "model_module": "@jupyter-widgets/controls",
     "model_module_version": "1.5.0",
     "model_name": "FloatProgressModel",
     "state": {
      "_dom_classes": [],
      "_model_module": "@jupyter-widgets/controls",
      "_model_module_version": "1.5.0",
      "_model_name": "FloatProgressModel",
      "_view_count": null,
      "_view_module": "@jupyter-widgets/controls",
      "_view_module_version": "1.5.0",
      "_view_name": "ProgressView",
      "bar_style": "success",
      "description": "",
      "description_tooltip": null,
      "layout": "IPY_MODEL_75cadaca6ee94a3ca31aae3c9aeefeef",
      "max": 437,
      "min": 0,
      "orientation": "horizontal",
      "style": "IPY_MODEL_4b35d92f37e24f84a2eca8c8154a4a7e",
      "value": 437
     }
    },
    "c799dfa9b2ab45639fbd8151604fcdb7": {
     "model_module": "@jupyter-widgets/base",
     "model_module_version": "1.2.0",
     "model_name": "LayoutModel",
     "state": {
      "_model_module": "@jupyter-widgets/base",
      "_model_module_version": "1.2.0",
      "_model_name": "LayoutModel",
      "_view_count": null,
      "_view_module": "@jupyter-widgets/base",
      "_view_module_version": "1.2.0",
      "_view_name": "LayoutView",
      "align_content": null,
      "align_items": null,
      "align_self": null,
      "border": null,
      "bottom": null,
      "display": null,
      "flex": null,
      "flex_flow": null,
      "grid_area": null,
      "grid_auto_columns": null,
      "grid_auto_flow": null,
      "grid_auto_rows": null,
      "grid_column": null,
      "grid_gap": null,
      "grid_row": null,
      "grid_template_areas": null,
      "grid_template_columns": null,
      "grid_template_rows": null,
      "height": null,
      "justify_content": null,
      "justify_items": null,
      "left": null,
      "margin": null,
      "max_height": null,
      "max_width": null,
      "min_height": null,
      "min_width": null,
      "object_fit": null,
      "object_position": null,
      "order": null,
      "overflow": null,
      "overflow_x": null,
      "overflow_y": null,
      "padding": null,
      "right": null,
      "top": null,
      "visibility": null,
      "width": null
     }
    },
    "ccd3fc6d27354b4f8b2b7f08a38be684": {
     "model_module": "@jupyter-widgets/controls",
     "model_module_version": "1.5.0",
     "model_name": "ProgressStyleModel",
     "state": {
      "_model_module": "@jupyter-widgets/controls",
      "_model_module_version": "1.5.0",
      "_model_name": "ProgressStyleModel",
      "_view_count": null,
      "_view_module": "@jupyter-widgets/base",
      "_view_module_version": "1.2.0",
      "_view_name": "StyleView",
      "bar_color": null,
      "description_width": ""
     }
    },
    "d0ce44a38447448092a80a557f1e36e9": {
     "model_module": "@jupyter-widgets/controls",
     "model_module_version": "1.5.0",
     "model_name": "FloatProgressModel",
     "state": {
      "_dom_classes": [],
      "_model_module": "@jupyter-widgets/controls",
      "_model_module_version": "1.5.0",
      "_model_name": "FloatProgressModel",
      "_view_count": null,
      "_view_module": "@jupyter-widgets/controls",
      "_view_module_version": "1.5.0",
      "_view_name": "ProgressView",
      "bar_style": "success",
      "description": "",
      "description_tooltip": null,
      "layout": "IPY_MODEL_a05581c2ddb84cde8a8d0152562cf9e3",
      "max": 389916980,
      "min": 0,
      "orientation": "horizontal",
      "style": "IPY_MODEL_8ea1d0a92edb4136b2e387abd358cb07",
      "value": 389916980
     }
    },
    "df10aefde00d4e51815365192d455d53": {
     "model_module": "@jupyter-widgets/controls",
     "model_module_version": "1.5.0",
     "model_name": "DescriptionStyleModel",
     "state": {
      "_model_module": "@jupyter-widgets/controls",
      "_model_module_version": "1.5.0",
      "_model_name": "DescriptionStyleModel",
      "_view_count": null,
      "_view_module": "@jupyter-widgets/base",
      "_view_module_version": "1.2.0",
      "_view_name": "StyleView",
      "description_width": ""
     }
    },
    "fa2b1b18b7c040f1ab57e1b98fe8d5d1": {
     "model_module": "@jupyter-widgets/controls",
     "model_module_version": "1.5.0",
     "model_name": "HTMLModel",
     "state": {
      "_dom_classes": [],
      "_model_module": "@jupyter-widgets/controls",
      "_model_module_version": "1.5.0",
      "_model_name": "HTMLModel",
      "_view_count": null,
      "_view_module": "@jupyter-widgets/controls",
      "_view_module_version": "1.5.0",
      "_view_name": "HTMLView",
      "description": "",
      "description_tooltip": null,
      "layout": "IPY_MODEL_4a2518966d4d4ac69d8b6de73505c8f2",
      "placeholder": "​",
      "style": "IPY_MODEL_532e1d2d23e442a4830f9efab20bf44e",
      "value": " 390M/390M [00:01&lt;00:00, 248MB/s]"
     }
    },
    "fc7fcf6acf7940f2823103328bd1b449": {
     "model_module": "@jupyter-widgets/controls",
     "model_module_version": "1.5.0",
     "model_name": "DescriptionStyleModel",
     "state": {
      "_model_module": "@jupyter-widgets/controls",
      "_model_module_version": "1.5.0",
      "_model_name": "DescriptionStyleModel",
      "_view_count": null,
      "_view_module": "@jupyter-widgets/base",
      "_view_module_version": "1.2.0",
      "_view_name": "StyleView",
      "description_width": ""
     }
    },
    "fccc22e54135463585642c4200270ba8": {
     "model_module": "@jupyter-widgets/controls",
     "model_module_version": "1.5.0",
     "model_name": "HBoxModel",
     "state": {
      "_dom_classes": [],
      "_model_module": "@jupyter-widgets/controls",
      "_model_module_version": "1.5.0",
      "_model_name": "HBoxModel",
      "_view_count": null,
      "_view_module": "@jupyter-widgets/controls",
      "_view_module_version": "1.5.0",
      "_view_name": "HBoxView",
      "box_style": "",
      "children": [
       "IPY_MODEL_3345ba07a8834a5997b19aed7ebcef87",
       "IPY_MODEL_bfbb2d72032d48bd83b08839726badc9",
       "IPY_MODEL_a4aad370f8724af09b7e63e2d52b5faf"
      ],
      "layout": "IPY_MODEL_32cab497fa064cb98496be70a8f63e7e"
     }
    },
    "fd63740ef310423a9dd33409e6668d9b": {
     "model_module": "@jupyter-widgets/controls",
     "model_module_version": "1.5.0",
     "model_name": "DescriptionStyleModel",
     "state": {
      "_model_module": "@jupyter-widgets/controls",
      "_model_module_version": "1.5.0",
      "_model_name": "DescriptionStyleModel",
      "_view_count": null,
      "_view_module": "@jupyter-widgets/base",
      "_view_module_version": "1.2.0",
      "_view_name": "StyleView",
      "description_width": ""
     }
    }
   }
  }
 },
 "nbformat": 4,
 "nbformat_minor": 5
}
